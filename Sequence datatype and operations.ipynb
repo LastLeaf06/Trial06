{
 "cells": [
  {
   "cell_type": "markdown",
   "id": "ae72ef28-12a2-4b08-b606-e8f46d1931c7",
   "metadata": {},
   "source": [
    "# Sequence Data Types"
   ]
  },
  {
   "cell_type": "markdown",
   "id": "0a00015a-383c-4f17-8468-a3e525c794a0",
   "metadata": {},
   "source": [
    "strings\n"
   ]
  },
  {
   "cell_type": "code",
   "execution_count": 31,
   "id": "5a2ffcdd-9644-4167-a7b7-58236d1e988d",
   "metadata": {},
   "outputs": [],
   "source": [
    "# Immutable data types\n",
    "str = \"Namaste\""
   ]
  },
  {
   "cell_type": "code",
   "execution_count": 33,
   "id": "44e9f185-50c3-4f29-bd1f-fca69e906238",
   "metadata": {},
   "outputs": [
    {
     "name": "stdout",
     "output_type": "stream",
     "text": [
      "Namaste\n"
     ]
    }
   ],
   "source": [
    "print(str)"
   ]
  },
  {
   "cell_type": "markdown",
   "id": "78280448-05d3-4e3f-ac67-dcebb926658d",
   "metadata": {},
   "source": [
    "Lists"
   ]
  },
  {
   "cell_type": "code",
   "execution_count": 170,
   "id": "d29df43e-a02b-4761-a69e-0dba4438e787",
   "metadata": {},
   "outputs": [
    {
     "name": "stdout",
     "output_type": "stream",
     "text": [
      "(1, 2, 6, 7, 'hey there')\n"
     ]
    }
   ],
   "source": [
    "# Mutable data types\n",
    "# can have values of different dataypes - multiple datatypes\n",
    "listsamp = (1, 2, 6, 7, \"hey there\")\n",
    "print(listsamp)"
   ]
  },
  {
   "cell_type": "markdown",
   "id": "f35ea814-2049-4a3c-9c5b-f176c397803b",
   "metadata": {},
   "source": [
    "Tuples"
   ]
  },
  {
   "cell_type": "code",
   "execution_count": 37,
   "id": "845cdbf2-8db6-4481-8669-b617580d3a7c",
   "metadata": {},
   "outputs": [
    {
     "name": "stdout",
     "output_type": "stream",
     "text": [
      "(1, 2, 3, 6, 'Ram')\n"
     ]
    }
   ],
   "source": [
    "# immutable data types\n",
    "# can have multiple duplicate values\n",
    "tupsam = 1, 2, 3, 6, \"Ram\"\n",
    "print(tupsam)"
   ]
  },
  {
   "cell_type": "markdown",
   "id": "6952a9c7-0ee6-4beb-bf4e-bdaa15422693",
   "metadata": {},
   "source": [
    "Arrays"
   ]
  },
  {
   "cell_type": "code",
   "execution_count": 39,
   "id": "0ca20dea-ee2f-4829-aa72-ae070e3aec4d",
   "metadata": {},
   "outputs": [
    {
     "name": "stdout",
     "output_type": "stream",
     "text": [
      "array('i', [1, 3, 5, 7, 9])\n"
     ]
    }
   ],
   "source": [
    "from array import *\n",
    "arr = array(\"i\", [1, 3, 5, 7, 9])\n",
    "print(arr)"
   ]
  },
  {
   "cell_type": "code",
   "execution_count": 41,
   "id": "f0ce13d2-0870-4d25-bb13-6d02e62207cf",
   "metadata": {},
   "outputs": [
    {
     "name": "stdout",
     "output_type": "stream",
     "text": [
      "1\n",
      "3\n",
      "5\n",
      "7\n",
      "9\n"
     ]
    }
   ],
   "source": [
    "for y in arr: print(y)"
   ]
  },
  {
   "cell_type": "code",
   "execution_count": 43,
   "id": "0b9f738e-1a0b-4ae5-9f51-b37c711dc0db",
   "metadata": {},
   "outputs": [
    {
     "name": "stdout",
     "output_type": "stream",
     "text": [
      "1.0000998973846436\n",
      "79.94776153564453\n",
      "7.8757829666137695\n"
     ]
    }
   ],
   "source": [
    "arr1 = array(\"f\", [1.0000998777, 79.9477578, 7.875783])\n",
    "for x in arr1: print(x)"
   ]
  },
  {
   "cell_type": "markdown",
   "id": "7455cf89-36a7-422a-b432-176705132593",
   "metadata": {},
   "source": [
    "### Non Sequence Data types"
   ]
  },
  {
   "cell_type": "markdown",
   "id": "45f6b04d-9857-4ec2-999c-0068ea532fba",
   "metadata": {},
   "source": [
    "Dictonary"
   ]
  },
  {
   "cell_type": "code",
   "execution_count": 45,
   "id": "005ef11a-d1a2-4a7b-9a73-6dead677deca",
   "metadata": {},
   "outputs": [
    {
     "name": "stdout",
     "output_type": "stream",
     "text": [
      "{1: 'apple', 'two': 'Kiwi', 3: 'Mango'}\n"
     ]
    }
   ],
   "source": [
    "# Unordered collection of data values\n",
    "# stores data in Key : value pairs\n",
    "dictsam = {1 : \"apple\", \"two\" : \"Kiwi\", 3: \"Mango\"}\n",
    "print(dictsam)"
   ]
  },
  {
   "cell_type": "code",
   "execution_count": 47,
   "id": "09c1229d-f3d2-4964-b4e0-a88213f1c8df",
   "metadata": {},
   "outputs": [
    {
     "ename": "SyntaxError",
     "evalue": "invalid syntax (1745986535.py, line 3)",
     "output_type": "error",
     "traceback": [
      "\u001b[1;36m  Cell \u001b[1;32mIn[47], line 3\u001b[1;36m\u001b[0m\n\u001b[1;33m    dict_list = ([ (\"first\" : 1), (2 : 'Second')])\u001b[0m\n\u001b[1;37m                            ^\u001b[0m\n\u001b[1;31mSyntaxError\u001b[0m\u001b[1;31m:\u001b[0m invalid syntax\n"
     ]
    }
   ],
   "source": [
    "# creat a list of dictonaries \n",
    "# using the dict keyword\n",
    "dict_list = ([ (\"first\" : 1), (2 : 'Second')])\n",
    "print(dict_list)"
   ]
  },
  {
   "cell_type": "code",
   "execution_count": 49,
   "id": "d923ba06-ee16-4853-9e6a-46c44b3ec3e1",
   "metadata": {},
   "outputs": [
    {
     "name": "stdout",
     "output_type": "stream",
     "text": [
      "[('first', 1), (2, 'Second')]\n"
     ]
    }
   ],
   "source": [
    "dict_list = ([ (\"first\" , 1), (2 , 'Second')])\n",
    "print(dict_list)"
   ]
  },
  {
   "cell_type": "markdown",
   "id": "0c46b18a-dcee-49c9-9f00-0ebd765b2699",
   "metadata": {},
   "source": [
    "Sets"
   ]
  },
  {
   "cell_type": "code",
   "execution_count": 51,
   "id": "54a668d6-db47-4598-aa60-c8429ed60c89",
   "metadata": {},
   "outputs": [
    {
     "name": "stdout",
     "output_type": "stream",
     "text": [
      "{64.78934, 3, 'python', 7, 78888, 'data', 'science', 'nptel', 12121}\n"
     ]
    }
   ],
   "source": [
    "# Immutable data sets can of various data types\n",
    "# does not support line assignment\n",
    "# the elements gets randomly arranged when it is printed \n",
    "setsam = {\"nptel\", 64.78934, 78888, \"python\", 3, 'science', 7, 12121, 'data'}\n",
    "print(setsam)"
   ]
  },
  {
   "cell_type": "code",
   "execution_count": 53,
   "id": "06f90110-cca8-4eb5-aa9a-e9e509ff7583",
   "metadata": {},
   "outputs": [
    {
     "name": "stdout",
     "output_type": "stream",
     "text": [
      "{64.78934, 3, 'python', 7, 78888, 'data', 'science', 'nptel', 12121}\n"
     ]
    }
   ],
   "source": [
    "print(setsam)"
   ]
  },
  {
   "cell_type": "markdown",
   "id": "b0df352e-b09f-4c5e-a245-ac5d47e354a0",
   "metadata": {},
   "source": [
    "### range"
   ]
  },
  {
   "cell_type": "code",
   "execution_count": 55,
   "id": "b8dab4ca-9a37-47a7-969c-ebaebf85b87c",
   "metadata": {},
   "outputs": [
    {
     "name": "stdout",
     "output_type": "stream",
     "text": [
      "range(1, 30, 5)\n"
     ]
    }
   ],
   "source": [
    "# built in sequence type used in looping \n",
    "rangesa = range(1, 30, 5)\n",
    "# print numbes from 1 to 30 in steps of 5\n",
    "print(rangesa)"
   ]
  },
  {
   "cell_type": "code",
   "execution_count": 57,
   "id": "86a6ab32-e349-4d9c-9c74-96ae5f430ab5",
   "metadata": {},
   "outputs": [
    {
     "name": "stdout",
     "output_type": "stream",
     "text": [
      "1\n",
      "6\n",
      "11\n",
      "16\n",
      "21\n",
      "26\n"
     ]
    }
   ],
   "source": [
    "for a in rangesa: print(a)"
   ]
  },
  {
   "cell_type": "code",
   "execution_count": 59,
   "id": "607af0ce-3ac8-4372-9362-6d66155d560c",
   "metadata": {},
   "outputs": [
    {
     "name": "stdout",
     "output_type": "stream",
     "text": [
      "range(0, 20, 4)\n",
      "0\n",
      "4\n",
      "8\n",
      "12\n",
      "16\n"
     ]
    }
   ],
   "source": [
    "ran = range(0, 20, 4)\n",
    "print(ran)\n",
    "for x in ran:print(x)"
   ]
  },
  {
   "cell_type": "markdown",
   "id": "e5a79737-e504-4f8d-a8cf-02f9274c9d43",
   "metadata": {},
   "source": [
    "# Operations on Sequence and non-sequence Data types"
   ]
  },
  {
   "cell_type": "markdown",
   "id": "e0614da0-cde5-4562-b88a-402e3f51b923",
   "metadata": {},
   "source": [
    "## Indexing"
   ]
  },
  {
   "cell_type": "code",
   "execution_count": 28,
   "id": "50e640bd-3be1-4e4e-ae73-1b80d0493816",
   "metadata": {},
   "outputs": [
    {
     "data": {
      "text/plain": [
       "4"
      ]
     },
     "execution_count": 28,
     "metadata": {},
     "output_type": "execute_result"
    }
   ],
   "source": [
    "str.index(\"s\")"
   ]
  },
  {
   "cell_type": "code",
   "execution_count": 61,
   "id": "cccac2c1-1c55-4508-bcea-cb264ecd7f39",
   "metadata": {},
   "outputs": [
    {
     "data": {
      "text/plain": [
       "4"
      ]
     },
     "execution_count": 61,
     "metadata": {},
     "output_type": "execute_result"
    }
   ],
   "source": [
    "str.index(\"ste\")"
   ]
  },
  {
   "cell_type": "code",
   "execution_count": 63,
   "id": "f8d048e1-40d2-4c4e-bcb4-6b67af13b3e3",
   "metadata": {},
   "outputs": [
    {
     "data": {
      "text/plain": [
       "1"
      ]
     },
     "execution_count": 63,
     "metadata": {},
     "output_type": "execute_result"
    }
   ],
   "source": [
    "str.index(\"am\")"
   ]
  },
  {
   "cell_type": "code",
   "execution_count": 65,
   "id": "64d4e4ac-479e-43f3-8aaa-8152434336df",
   "metadata": {},
   "outputs": [
    {
     "data": {
      "text/plain": [
       "'s'"
      ]
     },
     "execution_count": 65,
     "metadata": {},
     "output_type": "execute_result"
    }
   ],
   "source": [
    "str[4]"
   ]
  },
  {
   "cell_type": "code",
   "execution_count": 69,
   "id": "2bfd35ea-a56c-46c4-b638-e9d04c37f60d",
   "metadata": {},
   "outputs": [
    {
     "data": {
      "text/plain": [
       "'e'"
      ]
     },
     "execution_count": 69,
     "metadata": {},
     "output_type": "execute_result"
    }
   ],
   "source": [
    "str[-1] # the last index from the end of the string starts from -1"
   ]
  },
  {
   "cell_type": "code",
   "execution_count": 71,
   "id": "81a7a7cc-ed6a-4f53-abcb-1962c2dd27c0",
   "metadata": {},
   "outputs": [
    {
     "data": {
      "text/plain": [
       "'t'"
      ]
     },
     "execution_count": 71,
     "metadata": {},
     "output_type": "execute_result"
    }
   ],
   "source": [
    "str[-2] #substring corresponding to the 2nd last position in the string"
   ]
  },
  {
   "cell_type": "markdown",
   "id": "3004c2e3-1a58-4cc2-b757-c2ebb471bb5b",
   "metadata": {},
   "source": [
    "#### Indexing in lists"
   ]
  },
  {
   "cell_type": "code",
   "execution_count": 77,
   "id": "3e9464a7-e37d-4ff2-8db8-1b5a5d253640",
   "metadata": {},
   "outputs": [
    {
     "name": "stdout",
     "output_type": "stream",
     "text": [
      "(1, 2, 6, 7, 'hey there')\n"
     ]
    }
   ],
   "source": [
    "listsamp = (1, 2, 6, 7, \"hey there\")\n",
    "print(listsamp)"
   ]
  },
  {
   "cell_type": "code",
   "execution_count": 79,
   "id": "de266099-1612-4525-8d08-f8b895ca32bc",
   "metadata": {},
   "outputs": [
    {
     "data": {
      "text/plain": [
       "3"
      ]
     },
     "execution_count": 79,
     "metadata": {},
     "output_type": "execute_result"
    }
   ],
   "source": [
    "listsamp.index(7)"
   ]
  },
  {
   "cell_type": "code",
   "execution_count": 81,
   "id": "85777a77-d558-4165-a5ef-ce212825d9f1",
   "metadata": {},
   "outputs": [
    {
     "data": {
      "text/plain": [
       "6"
      ]
     },
     "execution_count": 81,
     "metadata": {},
     "output_type": "execute_result"
    }
   ],
   "source": [
    "listsamp[2]"
   ]
  },
  {
   "cell_type": "code",
   "execution_count": 83,
   "id": "ebefb6ef-6eaa-434c-a6ba-0ade3d1a6afc",
   "metadata": {},
   "outputs": [
    {
     "data": {
      "text/plain": [
       "'hey there'"
      ]
     },
     "execution_count": 83,
     "metadata": {},
     "output_type": "execute_result"
    }
   ],
   "source": [
    "listsamp[-1]"
   ]
  },
  {
   "cell_type": "markdown",
   "id": "f24c7966-53c9-4de9-88e0-891e1f9c992a",
   "metadata": {},
   "source": [
    "#### Indexing in Arrays"
   ]
  },
  {
   "cell_type": "code",
   "execution_count": 86,
   "id": "4c10d490-0fa1-4578-be19-96a1ab24274e",
   "metadata": {},
   "outputs": [
    {
     "name": "stdout",
     "output_type": "stream",
     "text": [
      "6\n",
      "8\n",
      "9\n",
      "2\n",
      "5\n"
     ]
    }
   ],
   "source": [
    "from array import *\n",
    "arr1 = array(\"i\", [6, 8, 9, 2, 5])\n",
    "arr1[0]\n",
    "for y in arr1: print(y)"
   ]
  },
  {
   "cell_type": "code",
   "execution_count": 88,
   "id": "0f8d3f83-cf7b-4916-ba0b-87c1f5391626",
   "metadata": {},
   "outputs": [
    {
     "data": {
      "text/plain": [
       "2"
      ]
     },
     "execution_count": 88,
     "metadata": {},
     "output_type": "execute_result"
    }
   ],
   "source": [
    "arr1[-2]"
   ]
  },
  {
   "cell_type": "markdown",
   "id": "b9aaf690-8ca7-4ce7-8efe-5899b3c19bcc",
   "metadata": {},
   "source": [
    "#### Indexing in Tuples and sets"
   ]
  },
  {
   "cell_type": "code",
   "execution_count": 91,
   "id": "7b755807-e104-40e7-a076-4ec102f6adaa",
   "metadata": {},
   "outputs": [
    {
     "data": {
      "text/plain": [
       "4"
      ]
     },
     "execution_count": 91,
     "metadata": {},
     "output_type": "execute_result"
    }
   ],
   "source": [
    "tupsam = (1, 3, 5, 7, 9, \"data science\")\n",
    "tupsam.index(9)"
   ]
  },
  {
   "cell_type": "code",
   "execution_count": 93,
   "id": "b7e45367-6870-47bf-a200-879ee3d680f2",
   "metadata": {},
   "outputs": [
    {
     "data": {
      "text/plain": [
       "7"
      ]
     },
     "execution_count": 93,
     "metadata": {},
     "output_type": "execute_result"
    }
   ],
   "source": [
    "tupsam[3]"
   ]
  },
  {
   "cell_type": "code",
   "execution_count": 95,
   "id": "d420912c-477d-40a9-a9cb-6cffd17e0ef4",
   "metadata": {},
   "outputs": [
    {
     "data": {
      "text/plain": [
       "'data science'"
      ]
     },
     "execution_count": 95,
     "metadata": {},
     "output_type": "execute_result"
    }
   ],
   "source": [
    "tupsam[-1]"
   ]
  },
  {
   "cell_type": "code",
   "execution_count": 97,
   "id": "a3075be5-a6f2-43de-ae2f-9e6166bba960",
   "metadata": {},
   "outputs": [
    {
     "name": "stdout",
     "output_type": "stream",
     "text": [
      "{64.78934, 3, 'python', 7, 78888, 'data', 'science', 'nptel', 12121}\n"
     ]
    },
    {
     "ename": "TypeError",
     "evalue": "'set' object is not callable",
     "output_type": "error",
     "traceback": [
      "\u001b[1;31m---------------------------------------------------------------------------\u001b[0m",
      "\u001b[1;31mTypeError\u001b[0m                                 Traceback (most recent call last)",
      "Cell \u001b[1;32mIn[97], line 3\u001b[0m\n\u001b[0;32m      1\u001b[0m setsam \u001b[38;5;241m=\u001b[39m {\u001b[38;5;124m\"\u001b[39m\u001b[38;5;124mnptel\u001b[39m\u001b[38;5;124m\"\u001b[39m, \u001b[38;5;241m64.78934\u001b[39m, \u001b[38;5;241m78888\u001b[39m, \u001b[38;5;124m\"\u001b[39m\u001b[38;5;124mpython\u001b[39m\u001b[38;5;124m\"\u001b[39m, \u001b[38;5;241m3\u001b[39m, \u001b[38;5;124m'\u001b[39m\u001b[38;5;124mscience\u001b[39m\u001b[38;5;124m'\u001b[39m, \u001b[38;5;241m7\u001b[39m, \u001b[38;5;241m12121\u001b[39m, \u001b[38;5;124m'\u001b[39m\u001b[38;5;124mdata\u001b[39m\u001b[38;5;124m'\u001b[39m}\n\u001b[0;32m      2\u001b[0m \u001b[38;5;28mprint\u001b[39m(setsam)\n\u001b[1;32m----> 3\u001b[0m setsam(\u001b[38;5;241m3\u001b[39m)\n",
      "\u001b[1;31mTypeError\u001b[0m: 'set' object is not callable"
     ]
    }
   ],
   "source": [
    "setsam = {\"nptel\", 64.78934, 78888, \"python\", 3, 'science', 7, 12121, 'data'}\n",
    "print(setsam)\n",
    "setsam(3)"
   ]
  },
  {
   "cell_type": "code",
   "execution_count": 99,
   "id": "e605d2ae-7ed7-49d3-9ed7-aef54b8cffb0",
   "metadata": {},
   "outputs": [],
   "source": [
    "# set object does not support indexing"
   ]
  },
  {
   "cell_type": "markdown",
   "id": "d17ccb20-a48c-4d72-88b1-8aa1881e0bdc",
   "metadata": {},
   "source": [
    "#### Indexing in dictionary"
   ]
  },
  {
   "cell_type": "code",
   "execution_count": 112,
   "id": "ab269df4-8557-4b96-b49b-162bb96890ba",
   "metadata": {},
   "outputs": [
    {
     "name": "stdout",
     "output_type": "stream",
     "text": [
      "{1: 'apple', 'two': 'Kiwi', 3: 'Mango', 'four': 'strawberry'}\n"
     ]
    }
   ],
   "source": [
    "# indexing in dict is done using the key : value pair \n",
    "# the values in the dict are only indexed by keys \n",
    "dictsam = {1 : \"apple\", \"two\" : \"Kiwi\", 3: \"Mango\", \"four\" : \"strawberry\"}\n",
    "print(dictsam)"
   ]
  },
  {
   "cell_type": "code",
   "execution_count": 108,
   "id": "3947ad99-d038-4d8e-b42b-d3cc6adba2ce",
   "metadata": {},
   "outputs": [
    {
     "ename": "KeyError",
     "evalue": "'apples'",
     "output_type": "error",
     "traceback": [
      "\u001b[1;31m---------------------------------------------------------------------------\u001b[0m",
      "\u001b[1;31mKeyError\u001b[0m                                  Traceback (most recent call last)",
      "Cell \u001b[1;32mIn[108], line 2\u001b[0m\n\u001b[0;32m      1\u001b[0m \u001b[38;5;66;03m# indexing by values is not possible in dictionary\u001b[39;00m\n\u001b[1;32m----> 2\u001b[0m dictsam[\u001b[38;5;124m\"\u001b[39m\u001b[38;5;124mapples\u001b[39m\u001b[38;5;124m\"\u001b[39m]\n",
      "\u001b[1;31mKeyError\u001b[0m: 'apples'"
     ]
    }
   ],
   "source": [
    "# indexing by values is not possible in dictionary\n",
    "dictsam[\"apples\"]"
   ]
  },
  {
   "cell_type": "code",
   "execution_count": 110,
   "id": "87a31fda-19ab-49b3-b46e-792780e05818",
   "metadata": {},
   "outputs": [
    {
     "data": {
      "text/plain": [
       "'apple'"
      ]
     },
     "execution_count": 110,
     "metadata": {},
     "output_type": "execute_result"
    }
   ],
   "source": [
    "dictsam[1]"
   ]
  },
  {
   "cell_type": "markdown",
   "id": "cfcf7325-550c-4654-b354-f15555482bd3",
   "metadata": {},
   "source": [
    "#### Indexing in range"
   ]
  },
  {
   "cell_type": "code",
   "execution_count": 115,
   "id": "78c20e90-df36-45e8-9827-550157a8c6e8",
   "metadata": {},
   "outputs": [],
   "source": [
    "rangesam1 = range(0, 30, 4)"
   ]
  },
  {
   "cell_type": "code",
   "execution_count": 117,
   "id": "8213879f-9345-4010-810b-cd2b5d2372dc",
   "metadata": {},
   "outputs": [
    {
     "name": "stdout",
     "output_type": "stream",
     "text": [
      "range(0, 30, 4)\n"
     ]
    }
   ],
   "source": [
    "print(rangesam1)"
   ]
  },
  {
   "cell_type": "code",
   "execution_count": 119,
   "id": "2108c0a4-23cf-4ec0-bd3f-5d31ba5c9fe4",
   "metadata": {},
   "outputs": [
    {
     "name": "stdout",
     "output_type": "stream",
     "text": [
      "0\n",
      "4\n",
      "8\n",
      "12\n",
      "16\n",
      "20\n",
      "24\n",
      "28\n"
     ]
    }
   ],
   "source": [
    "for x in rangesam1: print(x)"
   ]
  },
  {
   "cell_type": "code",
   "execution_count": 125,
   "id": "6159a17f-7db4-4ed0-bee0-5cfe161c863f",
   "metadata": {},
   "outputs": [
    {
     "data": {
      "text/plain": [
       "24"
      ]
     },
     "execution_count": 125,
     "metadata": {},
     "output_type": "execute_result"
    }
   ],
   "source": [
    "# given the index returns the element\n",
    "rangesam1[6]"
   ]
  },
  {
   "cell_type": "code",
   "execution_count": 129,
   "id": "7a280d42-aa88-4f17-a385-e1d7ddd27703",
   "metadata": {},
   "outputs": [
    {
     "data": {
      "text/plain": [
       "3"
      ]
     },
     "execution_count": 129,
     "metadata": {},
     "output_type": "execute_result"
    }
   ],
   "source": [
    "# using the function index we find the element present in the range\n",
    "rangesam1.index(12)"
   ]
  },
  {
   "cell_type": "code",
   "execution_count": 131,
   "id": "64eb3074-c2d1-4c2e-9b20-7414636a849d",
   "metadata": {},
   "outputs": [
    {
     "ename": "TypeError",
     "evalue": "'range' object is not callable",
     "output_type": "error",
     "traceback": [
      "\u001b[1;31m---------------------------------------------------------------------------\u001b[0m",
      "\u001b[1;31mTypeError\u001b[0m                                 Traceback (most recent call last)",
      "Cell \u001b[1;32mIn[131], line 1\u001b[0m\n\u001b[1;32m----> 1\u001b[0m rangesam1(\u001b[38;5;241m4\u001b[39m)\n",
      "\u001b[1;31mTypeError\u001b[0m: 'range' object is not callable"
     ]
    }
   ],
   "source": [
    "rangesam1(4)"
   ]
  },
  {
   "cell_type": "markdown",
   "id": "deb79c5d-db79-4e0e-910e-7bda8e802f5b",
   "metadata": {},
   "source": [
    "## Slicing Operations"
   ]
  },
  {
   "cell_type": "code",
   "execution_count": 153,
   "id": "65e04dd6-b878-4ab2-878b-fc045daefc81",
   "metadata": {},
   "outputs": [],
   "source": [
    "# slice operation is used to slice a given sequence data type or any object that will follow the Sequence protocol\n",
    "# step default value is 1 \n",
    "# It only considers upto to (n - 1)"
   ]
  },
  {
   "cell_type": "markdown",
   "id": "c6392d51-ed9b-4307-bb8c-b03335a8e4bf",
   "metadata": {},
   "source": [
    "Strings"
   ]
  },
  {
   "cell_type": "code",
   "execution_count": 137,
   "id": "405055f3-7f8f-4b10-a26b-68219c9732c2",
   "metadata": {},
   "outputs": [
    {
     "name": "stdout",
     "output_type": "stream",
     "text": [
      "Namaste\n"
     ]
    }
   ],
   "source": [
    "print(str)"
   ]
  },
  {
   "cell_type": "code",
   "execution_count": 139,
   "id": "54f511c8-60e7-4cc7-b420-b0bc28d04228",
   "metadata": {},
   "outputs": [],
   "source": [
    "str1 = \"accomplishment\""
   ]
  },
  {
   "cell_type": "code",
   "execution_count": 141,
   "id": "f4df752e-d2f0-4e05-b260-3a2a1244a84e",
   "metadata": {},
   "outputs": [
    {
     "name": "stdout",
     "output_type": "stream",
     "text": [
      "accomplishment\n"
     ]
    }
   ],
   "source": [
    "print(str1)"
   ]
  },
  {
   "cell_type": "code",
   "execution_count": 143,
   "id": "5e0c22dc-5334-402f-a54d-eaf978047356",
   "metadata": {},
   "outputs": [
    {
     "data": {
      "text/plain": [
       "'co'"
      ]
     },
     "execution_count": 143,
     "metadata": {},
     "output_type": "execute_result"
    }
   ],
   "source": [
    "str1[slice(1, 4, 2)]"
   ]
  },
  {
   "cell_type": "code",
   "execution_count": 145,
   "id": "63c4cf1c-8f0e-4c7c-8e99-a5601441d0c0",
   "metadata": {},
   "outputs": [
    {
     "name": "stdout",
     "output_type": "stream",
     "text": [
      "claustrophobic\n"
     ]
    }
   ],
   "source": [
    "str2 = \"claustrophobic\"\n",
    "print(str2)"
   ]
  },
  {
   "cell_type": "code",
   "execution_count": 147,
   "id": "ba45e0ef-ed26-4025-a7e7-6300aab7b5c0",
   "metadata": {},
   "outputs": [
    {
     "data": {
      "text/plain": [
       "'lu'"
      ]
     },
     "execution_count": 147,
     "metadata": {},
     "output_type": "execute_result"
    }
   ],
   "source": [
    "str2[slice(1, 5, 2)]"
   ]
  },
  {
   "cell_type": "code",
   "execution_count": 149,
   "id": "b3819971-1da8-40d9-9309-0018479c3e31",
   "metadata": {},
   "outputs": [
    {
     "data": {
      "text/plain": [
       "'laus'"
      ]
     },
     "execution_count": 149,
     "metadata": {},
     "output_type": "execute_result"
    }
   ],
   "source": [
    "str2[slice(1, 5, 1)]"
   ]
  },
  {
   "cell_type": "code",
   "execution_count": 155,
   "id": "fd19fbac-a2a1-4279-9621-04066e47b818",
   "metadata": {},
   "outputs": [
    {
     "data": {
      "text/plain": [
       "'Namaste'"
      ]
     },
     "execution_count": 155,
     "metadata": {},
     "output_type": "execute_result"
    }
   ],
   "source": [
    "str[:]"
   ]
  },
  {
   "cell_type": "code",
   "execution_count": 161,
   "id": "d31c8fa1-8b00-41e7-8180-d8204ee53816",
   "metadata": {},
   "outputs": [
    {
     "data": {
      "text/plain": [
       "'claustro'"
      ]
     },
     "execution_count": 161,
     "metadata": {},
     "output_type": "execute_result"
    }
   ],
   "source": [
    "str2[:8] # starting from the begining till n - 1 = 7"
   ]
  },
  {
   "cell_type": "code",
   "execution_count": 163,
   "id": "6c2af23a-a550-48ae-9e9e-383c9a71c503",
   "metadata": {},
   "outputs": [
    {
     "data": {
      "text/plain": [
       "'omplishment'"
      ]
     },
     "execution_count": 163,
     "metadata": {},
     "output_type": "execute_result"
    }
   ],
   "source": [
    "str1[3:] # subsrting from index 3 till the end is printed"
   ]
  },
  {
   "cell_type": "markdown",
   "id": "a1ae5493-1634-4368-8a73-ba2c34926986",
   "metadata": {},
   "source": [
    "LISTS"
   ]
  },
  {
   "cell_type": "code",
   "execution_count": 172,
   "id": "10cd60a5-9c45-4359-b854-74e5ea67100f",
   "metadata": {},
   "outputs": [
    {
     "name": "stdout",
     "output_type": "stream",
     "text": [
      "(1, 2, 6, 7, 'hey there')\n"
     ]
    }
   ],
   "source": [
    "print(listsamp)"
   ]
  },
  {
   "cell_type": "code",
   "execution_count": 174,
   "id": "4bc9e7c9-d081-479d-9a08-02feab9fdebd",
   "metadata": {},
   "outputs": [
    {
     "data": {
      "text/plain": [
       "(6, 7)"
      ]
     },
     "execution_count": 174,
     "metadata": {},
     "output_type": "execute_result"
    }
   ],
   "source": [
    "listsamp[2 : 4]"
   ]
  },
  {
   "cell_type": "markdown",
   "id": "92e0d749-c5c2-4574-9cc7-672b57d4bb2e",
   "metadata": {},
   "source": [
    " the rest of the operations remain the same to lists as well\n"
   ]
  },
  {
   "cell_type": "markdown",
   "id": "5ffd6d3a-2b40-4f6c-96b5-bc678ab5cbbf",
   "metadata": {},
   "source": [
    "Dictionary"
   ]
  },
  {
   "cell_type": "code",
   "execution_count": 178,
   "id": "5f085b8c-4561-46d1-af99-ef3a52e5b157",
   "metadata": {},
   "outputs": [
    {
     "name": "stdout",
     "output_type": "stream",
     "text": [
      "{1: 'apple', 'two': 'Kiwi', 3: 'Mango', 'four': 'strawberry'}\n"
     ]
    }
   ],
   "source": [
    "dictsam = {1 : \"apple\", \"two\" : \"Kiwi\", 3: \"Mango\", \"four\" : \"strawberry\"}\n",
    "print(dictsam)"
   ]
  },
  {
   "cell_type": "code",
   "execution_count": 180,
   "id": "41e446d7-2479-4d18-aad4-2d02fe5b4389",
   "metadata": {},
   "outputs": [
    {
     "data": {
      "text/plain": [
       "'apple'"
      ]
     },
     "execution_count": 180,
     "metadata": {},
     "output_type": "execute_result"
    }
   ],
   "source": [
    "dictsam[1]"
   ]
  },
  {
   "cell_type": "code",
   "execution_count": 182,
   "id": "0b92e9a1-d2f3-4fa5-a199-ea9fe72a3eb7",
   "metadata": {},
   "outputs": [
    {
     "ename": "KeyError",
     "evalue": "slice(1, 'two', None)",
     "output_type": "error",
     "traceback": [
      "\u001b[1;31m---------------------------------------------------------------------------\u001b[0m",
      "\u001b[1;31mKeyError\u001b[0m                                  Traceback (most recent call last)",
      "Cell \u001b[1;32mIn[182], line 1\u001b[0m\n\u001b[1;32m----> 1\u001b[0m dictsam[\u001b[38;5;241m1\u001b[39m : \u001b[38;5;124m\"\u001b[39m\u001b[38;5;124mtwo\u001b[39m\u001b[38;5;124m\"\u001b[39m]\n",
      "\u001b[1;31mKeyError\u001b[0m: slice(1, 'two', None)"
     ]
    }
   ],
   "source": [
    "dictsam[1 : \"two\"]"
   ]
  },
  {
   "cell_type": "markdown",
   "id": "02810018-6ecc-442a-bef2-7c2b13566f98",
   "metadata": {},
   "source": [
    " Slicing is not possible in dictionaries"
   ]
  },
  {
   "cell_type": "markdown",
   "id": "5ee5a6b4-43b9-4326-ad09-bf24af1c53e7",
   "metadata": {},
   "source": [
    "same goes with sets, SLicing is not possible"
   ]
  },
  {
   "cell_type": "markdown",
   "id": "0b5a1b1a-499c-4e86-9c3d-88e95a2bdf1b",
   "metadata": {},
   "source": [
    "##### SLicing in Arrays and range"
   ]
  },
  {
   "cell_type": "code",
   "execution_count": 188,
   "id": "980d4c2d-6f65-4d25-a2d0-0a49c1f28f38",
   "metadata": {},
   "outputs": [
    {
     "name": "stdout",
     "output_type": "stream",
     "text": [
      "1\n",
      "3\n",
      "5\n",
      "7\n",
      "9\n"
     ]
    }
   ],
   "source": [
    "from array import *\n",
    "for x in arr: print(x)"
   ]
  },
  {
   "cell_type": "code",
   "execution_count": 190,
   "id": "8839c537-cad0-43b1-9e34-69adb61c3e8a",
   "metadata": {},
   "outputs": [
    {
     "data": {
      "text/plain": [
       "array('i', [1, 3, 5])"
      ]
     },
     "execution_count": 190,
     "metadata": {},
     "output_type": "execute_result"
    }
   ],
   "source": [
    "arr[:3]"
   ]
  },
  {
   "cell_type": "code",
   "execution_count": 192,
   "id": "22f6714c-0101-4cbd-84aa-9dec4f24d6aa",
   "metadata": {},
   "outputs": [
    {
     "data": {
      "text/plain": [
       "array('i', [3, 5, 7])"
      ]
     },
     "execution_count": 192,
     "metadata": {},
     "output_type": "execute_result"
    }
   ],
   "source": [
    "arr[1:-1]"
   ]
  },
  {
   "cell_type": "code",
   "execution_count": 194,
   "id": "f9ed8348-d9ed-4523-90af-2744e0b73a7f",
   "metadata": {},
   "outputs": [
    {
     "data": {
      "text/plain": [
       "array('i', [1, 3, 5, 7, 9])"
      ]
     },
     "execution_count": 194,
     "metadata": {},
     "output_type": "execute_result"
    }
   ],
   "source": [
    "arr[:]"
   ]
  },
  {
   "cell_type": "code",
   "execution_count": 200,
   "id": "c65c6abb-c9ef-49d5-9c4f-8d1fa1d2eb92",
   "metadata": {},
   "outputs": [
    {
     "name": "stdout",
     "output_type": "stream",
     "text": [
      "range(1, 30, 5)\n"
     ]
    }
   ],
   "source": [
    "rangesa = range(1, 30, 5)\n",
    "# print numbes from 1 to 30 in steps of 5\n",
    "print(rangesa)"
   ]
  },
  {
   "cell_type": "code",
   "execution_count": 202,
   "id": "a6152a15-0627-4251-8f74-6cb0c774481a",
   "metadata": {},
   "outputs": [
    {
     "name": "stdout",
     "output_type": "stream",
     "text": [
      "1\n",
      "6\n",
      "11\n",
      "16\n",
      "21\n",
      "26\n"
     ]
    }
   ],
   "source": [
    "for y in rangesa: print(y)"
   ]
  },
  {
   "cell_type": "code",
   "execution_count": 204,
   "id": "dfbb7282-520a-4c82-9dda-3861d3e33bae",
   "metadata": {},
   "outputs": [
    {
     "name": "stdout",
     "output_type": "stream",
     "text": [
      "range(1, 26, 5)\n"
     ]
    }
   ],
   "source": [
    "print(rangesa[:-1])"
   ]
  },
  {
   "cell_type": "code",
   "execution_count": null,
   "id": "8c7b63ce-9658-4136-921e-e7e65be2340c",
   "metadata": {},
   "outputs": [],
   "source": []
  }
 ],
 "metadata": {
  "kernelspec": {
   "display_name": "Python [conda env:base] *",
   "language": "python",
   "name": "conda-base-py"
  },
  "language_info": {
   "codemirror_mode": {
    "name": "ipython",
    "version": 3
   },
   "file_extension": ".py",
   "mimetype": "text/x-python",
   "name": "python",
   "nbconvert_exporter": "python",
   "pygments_lexer": "ipython3",
   "version": "3.12.7"
  }
 },
 "nbformat": 4,
 "nbformat_minor": 5
}
